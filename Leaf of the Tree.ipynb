{
 "cells": [
  {
   "cell_type": "markdown",
   "id": "cdc2733d",
   "metadata": {},
   "source": [
    "# 1. Import Necessary Libraries"
   ]
  },
  {
   "cell_type": "code",
   "execution_count": 1,
   "id": "e2279f68",
   "metadata": {},
   "outputs": [],
   "source": [
    "import pandas as pd\n",
    "import numpy as np\n",
    "from sklearn.datasets import load_iris"
   ]
  },
  {
   "cell_type": "code",
   "execution_count": 3,
   "id": "7e107b63",
   "metadata": {},
   "outputs": [],
   "source": [
    "from sklearn import tree\n",
    "import graphviz\n",
    "from sklearn.tree import DecisionTreeClassifier\n",
    "from sklearn.model_selection import train_test_split, cross_val_score"
   ]
  },
  {
   "cell_type": "markdown",
   "id": "1e893556",
   "metadata": {},
   "source": [
    "# 2. The Data"
   ]
  },
  {
   "cell_type": "code",
   "execution_count": 2,
   "id": "733aab48",
   "metadata": {},
   "outputs": [],
   "source": [
    "# Reading the Iris.csv file\n",
    "data = load_iris()\n",
    "\n",
    "# Extracting Attributes / Features\n",
    "X = data.data\n",
    "\n",
    "# Extracting Target / Class Labels\n",
    "y = data.target"
   ]
  },
  {
   "cell_type": "markdown",
   "id": "350f8680",
   "metadata": {},
   "source": [
    "# 3. The Model"
   ]
  },
  {
   "cell_type": "code",
   "execution_count": 15,
   "id": "0ae3c2d5",
   "metadata": {},
   "outputs": [
    {
     "data": {
      "text/html": [
       "<style>#sk-container-id-1 {color: black;background-color: white;}#sk-container-id-1 pre{padding: 0;}#sk-container-id-1 div.sk-toggleable {background-color: white;}#sk-container-id-1 label.sk-toggleable__label {cursor: pointer;display: block;width: 100%;margin-bottom: 0;padding: 0.3em;box-sizing: border-box;text-align: center;}#sk-container-id-1 label.sk-toggleable__label-arrow:before {content: \"▸\";float: left;margin-right: 0.25em;color: #696969;}#sk-container-id-1 label.sk-toggleable__label-arrow:hover:before {color: black;}#sk-container-id-1 div.sk-estimator:hover label.sk-toggleable__label-arrow:before {color: black;}#sk-container-id-1 div.sk-toggleable__content {max-height: 0;max-width: 0;overflow: hidden;text-align: left;background-color: #f0f8ff;}#sk-container-id-1 div.sk-toggleable__content pre {margin: 0.2em;color: black;border-radius: 0.25em;background-color: #f0f8ff;}#sk-container-id-1 input.sk-toggleable__control:checked~div.sk-toggleable__content {max-height: 200px;max-width: 100%;overflow: auto;}#sk-container-id-1 input.sk-toggleable__control:checked~label.sk-toggleable__label-arrow:before {content: \"▾\";}#sk-container-id-1 div.sk-estimator input.sk-toggleable__control:checked~label.sk-toggleable__label {background-color: #d4ebff;}#sk-container-id-1 div.sk-label input.sk-toggleable__control:checked~label.sk-toggleable__label {background-color: #d4ebff;}#sk-container-id-1 input.sk-hidden--visually {border: 0;clip: rect(1px 1px 1px 1px);clip: rect(1px, 1px, 1px, 1px);height: 1px;margin: -1px;overflow: hidden;padding: 0;position: absolute;width: 1px;}#sk-container-id-1 div.sk-estimator {font-family: monospace;background-color: #f0f8ff;border: 1px dotted black;border-radius: 0.25em;box-sizing: border-box;margin-bottom: 0.5em;}#sk-container-id-1 div.sk-estimator:hover {background-color: #d4ebff;}#sk-container-id-1 div.sk-parallel-item::after {content: \"\";width: 100%;border-bottom: 1px solid gray;flex-grow: 1;}#sk-container-id-1 div.sk-label:hover label.sk-toggleable__label {background-color: #d4ebff;}#sk-container-id-1 div.sk-serial::before {content: \"\";position: absolute;border-left: 1px solid gray;box-sizing: border-box;top: 0;bottom: 0;left: 50%;z-index: 0;}#sk-container-id-1 div.sk-serial {display: flex;flex-direction: column;align-items: center;background-color: white;padding-right: 0.2em;padding-left: 0.2em;position: relative;}#sk-container-id-1 div.sk-item {position: relative;z-index: 1;}#sk-container-id-1 div.sk-parallel {display: flex;align-items: stretch;justify-content: center;background-color: white;position: relative;}#sk-container-id-1 div.sk-item::before, #sk-container-id-1 div.sk-parallel-item::before {content: \"\";position: absolute;border-left: 1px solid gray;box-sizing: border-box;top: 0;bottom: 0;left: 50%;z-index: -1;}#sk-container-id-1 div.sk-parallel-item {display: flex;flex-direction: column;z-index: 1;position: relative;background-color: white;}#sk-container-id-1 div.sk-parallel-item:first-child::after {align-self: flex-end;width: 50%;}#sk-container-id-1 div.sk-parallel-item:last-child::after {align-self: flex-start;width: 50%;}#sk-container-id-1 div.sk-parallel-item:only-child::after {width: 0;}#sk-container-id-1 div.sk-dashed-wrapped {border: 1px dashed gray;margin: 0 0.4em 0.5em 0.4em;box-sizing: border-box;padding-bottom: 0.4em;background-color: white;}#sk-container-id-1 div.sk-label label {font-family: monospace;font-weight: bold;display: inline-block;line-height: 1.2em;}#sk-container-id-1 div.sk-label-container {text-align: center;}#sk-container-id-1 div.sk-container {/* jupyter's `normalize.less` sets `[hidden] { display: none; }` but bootstrap.min.css set `[hidden] { display: none !important; }` so we also need the `!important` here to be able to override the default hidden behavior on the sphinx rendered scikit-learn.org. See: https://github.com/scikit-learn/scikit-learn/issues/21755 */display: inline-block !important;position: relative;}#sk-container-id-1 div.sk-text-repr-fallback {display: none;}</style><div id=\"sk-container-id-1\" class=\"sk-top-container\"><div class=\"sk-text-repr-fallback\"><pre>DecisionTreeClassifier()</pre><b>In a Jupyter environment, please rerun this cell to show the HTML representation or trust the notebook. <br />On GitHub, the HTML representation is unable to render, please try loading this page with nbviewer.org.</b></div><div class=\"sk-container\" hidden><div class=\"sk-item\"><div class=\"sk-estimator sk-toggleable\"><input class=\"sk-toggleable__control sk-hidden--visually\" id=\"sk-estimator-id-1\" type=\"checkbox\" checked><label for=\"sk-estimator-id-1\" class=\"sk-toggleable__label sk-toggleable__label-arrow\">DecisionTreeClassifier</label><div class=\"sk-toggleable__content\"><pre>DecisionTreeClassifier()</pre></div></div></div></div></div>"
      ],
      "text/plain": [
       "DecisionTreeClassifier()"
      ]
     },
     "execution_count": 15,
     "metadata": {},
     "output_type": "execute_result"
    }
   ],
   "source": [
    "\n",
    "#Before training the model we have split our data into Actual Train and Actual Test Dataset for training and validating purpose...\n",
    "\n",
    "Xtrain, Xtest, Ytrain, Ytest = train_test_split(X, y, test_size=0.30, random_state=42)\n",
    "\n",
    "#spliting data into validation train and validation test\n",
    "Xt, Xcv, Yt, Ycv = train_test_split(Xtrain, Ytrain, test_size=0.10, random_state=42)\n",
    "\n",
    "\n",
    "'''Now we have create a Decision tree classifier and trained it with training dataset.'''\n",
    "\n",
    "\n",
    "Iris_clf = DecisionTreeClassifier(criterion='gini',min_samples_split=2)\n",
    "Iris_clf.fit(Xt, Yt)"
   ]
  },
  {
   "cell_type": "markdown",
   "id": "4227840d",
   "metadata": {},
   "source": [
    "## The Logic"
   ]
  },
  {
   "cell_type": "code",
   "execution_count": 16,
   "id": "abbc1271",
   "metadata": {},
   "outputs": [
    {
     "data": {
      "text/plain": [
       "[Text(0.375, 0.9285714285714286, 'X[2] <= 2.6\\ngini = 0.665\\nsamples = 94\\nvalue = [30, 30, 34]'),\n",
       " Text(0.25, 0.7857142857142857, 'gini = 0.0\\nsamples = 30\\nvalue = [30, 0, 0]'),\n",
       " Text(0.5, 0.7857142857142857, 'X[3] <= 1.55\\ngini = 0.498\\nsamples = 64\\nvalue = [0, 30, 34]'),\n",
       " Text(0.25, 0.6428571428571429, 'X[2] <= 5.0\\ngini = 0.124\\nsamples = 30\\nvalue = [0, 28, 2]'),\n",
       " Text(0.125, 0.5, 'gini = 0.0\\nsamples = 28\\nvalue = [0, 28, 0]'),\n",
       " Text(0.375, 0.5, 'gini = 0.0\\nsamples = 2\\nvalue = [0, 0, 2]'),\n",
       " Text(0.75, 0.6428571428571429, 'X[2] <= 5.05\\ngini = 0.111\\nsamples = 34\\nvalue = [0, 2, 32]'),\n",
       " Text(0.625, 0.5, 'X[1] <= 2.9\\ngini = 0.375\\nsamples = 8\\nvalue = [0, 2, 6]'),\n",
       " Text(0.5, 0.35714285714285715, 'gini = 0.0\\nsamples = 5\\nvalue = [0, 0, 5]'),\n",
       " Text(0.75, 0.35714285714285715, 'X[2] <= 4.9\\ngini = 0.444\\nsamples = 3\\nvalue = [0, 2, 1]'),\n",
       " Text(0.625, 0.21428571428571427, 'X[1] <= 3.1\\ngini = 0.5\\nsamples = 2\\nvalue = [0, 1, 1]'),\n",
       " Text(0.5, 0.07142857142857142, 'gini = 0.0\\nsamples = 1\\nvalue = [0, 0, 1]'),\n",
       " Text(0.75, 0.07142857142857142, 'gini = 0.0\\nsamples = 1\\nvalue = [0, 1, 0]'),\n",
       " Text(0.875, 0.21428571428571427, 'gini = 0.0\\nsamples = 1\\nvalue = [0, 1, 0]'),\n",
       " Text(0.875, 0.5, 'gini = 0.0\\nsamples = 26\\nvalue = [0, 0, 26]')]"
      ]
     },
     "execution_count": 16,
     "metadata": {},
     "output_type": "execute_result"
    },
    {
     "data": {
      "image/png": "[encoded data removed]",
      "text/plain": [
       "<Figure size 640x480 with 1 Axes>"
      ]
     },
     "metadata": {},
     "output_type": "display_data"
    }
   ],
   "source": [
    "#Visualized the Tree which is formed on train dataset\n",
    "\n",
    "tree.plot_tree(Iris_clf)"
   ]
  },
  {
   "cell_type": "code",
   "execution_count": 29,
   "id": "9a10a340",
   "metadata": {},
   "outputs": [
    {
     "name": "stdout",
     "output_type": "stream",
     "text": [
      "['SepalLengthCm', 'SepalWidthCm', 'PetalLengthCm', 'PetalWidthCm']\n"
     ]
    }
   ],
   "source": [
    "features = [\"SepalLengthCm\", \"SepalWidthCm\", \"PetalLengthCm\", \"PetalWidthCm\"]\n",
    "print(features)"
   ]
  },
  {
   "cell_type": "code",
   "execution_count": 33,
   "id": "6f882a55",
   "metadata": {},
   "outputs": [
    {
     "name": "stdout",
     "output_type": "stream",
     "text": [
      "The binary tree structure has 15 nodes and has the following tree structure:\n",
      "\n",
      "node=0 is a split node: go to node 1 if PetalLengthCm(X[:, 2]) <= 2.599999964237213 else to node 2.\n",
      "\tnode=1 is a leaf node.\n",
      "\tnode=2 is a split node: go to node 3 if PetalWidthCm(X[:, 3]) <= 1.550000011920929 else to node 6.\n",
      "\t\tnode=3 is a split node: go to node 4 if PetalLengthCm(X[:, 2]) <= 5.0 else to node 5.\n",
      "\t\t\tnode=4 is a leaf node.\n",
      "\t\t\tnode=5 is a leaf node.\n",
      "\t\tnode=6 is a split node: go to node 7 if PetalLengthCm(X[:, 2]) <= 5.049999952316284 else to node 14.\n",
      "\t\t\tnode=7 is a split node: go to node 8 if SepalWidthCm(X[:, 1]) <= 2.899999976158142 else to node 9.\n",
      "\t\t\t\tnode=8 is a leaf node.\n",
      "\t\t\t\tnode=9 is a split node: go to node 10 if PetalLengthCm(X[:, 2]) <= 4.900000095367432 else to node 13.\n",
      "\t\t\t\t\tnode=10 is a split node: go to node 11 if SepalWidthCm(X[:, 1]) <= 3.100000023841858 else to node 12.\n",
      "\t\t\t\t\t\tnode=11 is a leaf node.\n",
      "\t\t\t\t\t\tnode=12 is a leaf node.\n",
      "\t\t\t\t\tnode=13 is a leaf node.\n",
      "\t\t\tnode=14 is a leaf node.\n"
     ]
    }
   ],
   "source": [
    "clf = Iris_clf\n",
    "\n",
    "n_nodes = clf.tree_.node_count\n",
    "children_left = clf.tree_.children_left\n",
    "children_right = clf.tree_.children_right\n",
    "feature = clf.tree_.feature\n",
    "threshold = clf.tree_.threshold\n",
    "\n",
    "node_depth = np.zeros(shape=n_nodes, dtype=np.int64)\n",
    "is_leaves = np.zeros(shape=n_nodes, dtype=bool)\n",
    "stack = [(0, 0)]  # start with the root node id (0) and its depth (0)\n",
    "while len(stack) > 0:\n",
    "    # `pop` ensures each node is only visited once\n",
    "    node_id, depth = stack.pop()\n",
    "    node_depth[node_id] = depth\n",
    "\n",
    "    # If the left and right child of a node is not the same we have a split\n",
    "    # node\n",
    "    is_split_node = children_left[node_id] != children_right[node_id]\n",
    "    # If a split node, append left and right children and depth to `stack`\n",
    "    # so we can loop through them\n",
    "    if is_split_node:\n",
    "        stack.append((children_left[node_id], depth + 1))\n",
    "        stack.append((children_right[node_id], depth + 1))\n",
    "    else:\n",
    "        is_leaves[node_id] = True\n",
    "\n",
    "print(\n",
    "    \"The binary tree structure has {n} nodes and has \"\n",
    "    \"the following tree structure:\\n\".format(n=n_nodes)\n",
    ")\n",
    "for i in range(n_nodes):\n",
    "    if is_leaves[i]:\n",
    "        print(\n",
    "            \"{space}node={node} is a leaf node.\".format(\n",
    "                space=node_depth[i] * \"\\t\", node=i\n",
    "            )\n",
    "        )\n",
    "    else:\n",
    "        print(\n",
    "            \"{space}node={node} is a split node: \"\n",
    "            \"go to node {left} if {feature_name}(X[:, {feature}]) <= {threshold} \"\n",
    "            \"else to node {right}.\".format(\n",
    "                space=node_depth[i] * \"\\t\",\n",
    "                node=i,\n",
    "                left=children_left[i],\n",
    "                feature_name = features[feature[i]],\n",
    "                feature=feature[i],\n",
    "                threshold=threshold[i],\n",
    "                right=children_right[i],\n",
    "            )\n",
    "        )"
   ]
  },
  {
   "cell_type": "markdown",
   "id": "80037ccf",
   "metadata": {},
   "source": [
    "# 4. The  Scores"
   ]
  },
  {
   "cell_type": "code",
   "execution_count": 34,
   "id": "a2a496af",
   "metadata": {},
   "outputs": [
    {
     "name": "stdout",
     "output_type": "stream",
     "text": [
      "Accuracy score for validation test data is: 81.81818181818183 %\n"
     ]
    },
    {
     "data": {
      "text/plain": [
       "array([[[10,  0],\n",
       "        [ 0,  1]],\n",
       "\n",
       "       [[ 3,  1],\n",
       "        [ 1,  6]],\n",
       "\n",
       "       [[ 7,  1],\n",
       "        [ 1,  2]]], dtype=int64)"
      ]
     },
     "execution_count": 34,
     "metadata": {},
     "output_type": "execute_result"
    }
   ],
   "source": [
    "#Checking validation test data on our trained model and getting performance metrices\n",
    "\n",
    "from sklearn.metrics import multilabel_confusion_matrix, accuracy_score\n",
    "\n",
    "Y_hat = Iris_clf.predict(Xcv)\n",
    "\n",
    "\n",
    "print('Accuracy score for validation test data is:',accuracy_score(Ycv, Y_hat)*100,\"%\")\n",
    "multilabel_confusion_matrix(Ycv , Y_hat)"
   ]
  },
  {
   "cell_type": "code",
   "execution_count": 23,
   "id": "ad160746",
   "metadata": {},
   "outputs": [],
   "source": [
    "l = list(Iris_clf.tree_.apply(Xcv.astype(\"float32\")))"
   ]
  },
  {
   "cell_type": "code",
   "execution_count": 24,
   "id": "d05f8c18",
   "metadata": {},
   "outputs": [
    {
     "data": {
      "text/plain": [
       "{1: 1, 4: 7, 14: 3}"
      ]
     },
     "execution_count": 24,
     "metadata": {},
     "output_type": "execute_result"
    }
   ],
   "source": [
    " dict((x,l.count(x)) for x in set(l))"
   ]
  },
  {
   "cell_type": "markdown",
   "id": "02cf4640",
   "metadata": {},
   "source": [
    "## 4.2 Scores on Test Set"
   ]
  },
  {
   "cell_type": "code",
   "execution_count": 27,
   "id": "fbce1b4e",
   "metadata": {},
   "outputs": [
    {
     "name": "stdout",
     "output_type": "stream",
     "text": [
      "Model Accuracy Score on totally unseen data(Xtest) is: 100.0 %\n"
     ]
    },
    {
     "data": {
      "text/plain": [
       "array([[[26,  0],\n",
       "        [ 0, 19]],\n",
       "\n",
       "       [[32,  0],\n",
       "        [ 0, 13]],\n",
       "\n",
       "       [[32,  0],\n",
       "        [ 0, 13]]], dtype=int64)"
      ]
     },
     "execution_count": 27,
     "metadata": {},
     "output_type": "execute_result"
    }
   ],
   "source": [
    "#Checking our model performance on actual unseen test data.. \n",
    "YT_hat = Iris_clf.predict(Xtest)\n",
    "YT_hat\n",
    "\n",
    "print('Model Accuracy Score on totally unseen data(Xtest) is:',accuracy_score(Ytest, YT_hat)*100,'%')\n",
    "multilabel_confusion_matrix(Ytest , YT_hat)"
   ]
  }
 ],
 "metadata": {
  "kernelspec": {
   "display_name": "Python 3 (ipykernel)",
   "language": "python",
   "name": "python3"
  },
  "language_info": {
   "codemirror_mode": {
    "name": "ipython",
    "version": 3
   },
   "file_extension": ".py",
   "mimetype": "text/x-python",
   "name": "python",
   "nbconvert_exporter": "python",
   "pygments_lexer": "ipython3",
   "version": "3.9.13"
  }
 },
 "nbformat": 4,
 "nbformat_minor": 5
}
